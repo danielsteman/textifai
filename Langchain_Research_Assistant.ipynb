{
  "nbformat": 4,
  "nbformat_minor": 0,
  "metadata": {
    "colab": {
      "provenance": [],
      "authorship_tag": "ABX9TyNhK8FIJpC7/gYv6tQLfmVs",
      "include_colab_link": true
    },
    "kernelspec": {
      "name": "python3",
      "display_name": "Python 3"
    },
    "language_info": {
      "name": "python"
    }
  },
  "cells": [
    {
      "cell_type": "markdown",
      "metadata": {
        "id": "view-in-github",
        "colab_type": "text"
      },
      "source": [
        "<a href=\"https://colab.research.google.com/github/danielsteman/textifai/blob/notebooks/Langchain_Research_Assistant.ipynb\" target=\"_parent\"><img src=\"https://colab.research.google.com/assets/colab-badge.svg\" alt=\"Open In Colab\"/></a>"
      ]
    },
    {
      "cell_type": "code",
      "execution_count": null,
      "metadata": {
        "id": "24tKOQEp7HgP"
      },
      "outputs": [],
      "source": [
        "from IPython.display import clear_output"
      ]
    },
    {
      "cell_type": "code",
      "source": [
        "!pip install -qU python-magic openai langchain pypdf chromadb tiktoken pinecone-client\n",
        "clear_output()"
      ],
      "metadata": {
        "id": "sOMHdO_HBxKH"
      },
      "execution_count": null,
      "outputs": []
    },
    {
      "cell_type": "code",
      "source": [
        "import requests\n",
        "import openai\n",
        "import pinecone\n",
        "from dotenv import load_dotenv\n",
        "\n",
        "\n",
        "import langchain\n",
        "from langchain.embeddings import OpenAIEmbeddings\n",
        "from langchain.vectorstores import Pinecone\n",
        "from langchain import OpenAI, VectorDBQA\n",
        "from langchain.chains import RetrievalQAWithSourcesChain, RetrievalQA\n",
        "from langchain.chains.qa_with_sources import load_qa_with_sources_chain\n",
        "from langchain.chains.conversation.memory import ConversationBufferWindowMemory\n",
        "from langchain.chat_models import ChatOpenAI\n",
        "from langchain.prompts import PromptTemplate\n",
        "from langchain.text_splitter import RecursiveCharacterTextSplitter\n",
        "from langchain.indexes import VectorstoreIndexCreator\n",
        "from langchain.document_loaders import DirectoryLoader, PyPDFLoader\n",
        "\n",
        "import nltk\n",
        "nltk.download('punkt')\n",
        "nltk.download('stopwords')\n",
        "import os\n",
        "\n",
        "from google.colab import drive\n",
        "drive.mount('/content/drive')"
      ],
      "metadata": {
        "colab": {
          "base_uri": "https://localhost:8080/"
        },
        "id": "fUxaigHdB_9A",
        "outputId": "aa5c761f-636b-4d8a-b7e9-fde9c5361c93"
      },
      "execution_count": null,
      "outputs": [
        {
          "output_type": "stream",
          "name": "stderr",
          "text": [
            "[nltk_data] Downloading package punkt to /root/nltk_data...\n",
            "[nltk_data]   Package punkt is already up-to-date!\n",
            "[nltk_data] Downloading package stopwords to /root/nltk_data...\n",
            "[nltk_data]   Package stopwords is already up-to-date!\n"
          ]
        },
        {
          "output_type": "stream",
          "name": "stdout",
          "text": [
            "Drive already mounted at /content/drive; to attempt to forcibly remount, call drive.mount(\"/content/drive\", force_remount=True).\n"
          ]
        }
      ]
    },
    {
      "cell_type": "code",
      "source": [
        "from getpass import getpass"
      ],
      "metadata": {
        "id": "qmiacN7ADyN9"
      },
      "execution_count": null,
      "outputs": []
    },
    {
      "cell_type": "code",
      "source": [
        "# Pinecone Config\n",
        "PINECONE_API_KEY = getpass('Pinecone API Key:')\n",
        "PINECONE_ENV = getpass('Pinecone Env:')\n",
        "\n",
        "# OpenAI Config\n",
        "os.environ['OPENAI_API_KEY'] = getpass('OpenAI API Key:')\n",
        "\n",
        "# Semantic Scholar Config\n",
        "S2_API_KEY = getpass('Semantic Scholar API Key:')"
      ],
      "metadata": {
        "colab": {
          "base_uri": "https://localhost:8080/"
        },
        "id": "l-HHJJA0EYlM",
        "outputId": "6e1284d9-635a-4163-b681-721278c9456a"
      },
      "execution_count": null,
      "outputs": [
        {
          "name": "stdout",
          "output_type": "stream",
          "text": [
            "Pinecone API Key:··········\n",
            "Pinecone Env:··········\n",
            "OpenAI API Key:··········\n",
            "Semantic Scholar API Key:··········\n"
          ]
        }
      ]
    },
    {
      "cell_type": "code",
      "source": [
        "index_name = 'textifai'\n",
        "\n",
        "# Initialize Pincone\n",
        "pinecone.init(\n",
        "    api_key=PINECONE_API_KEY,\n",
        "    environment=PINECONE_ENV\n",
        ")\n",
        "\n",
        "if index_name not in pinecone.list_indexes():\n",
        "    # we create a new index\n",
        "    pinecone.create_index(\n",
        "        name=index_name,\n",
        "        metric='cosine',\n",
        "        dimension=1536  # 1536 dim of text-embedding-ada-002\n",
        "    )\n",
        "else:\n",
        "    print(\"Index already exists\")"
      ],
      "metadata": {
        "id": "lzsgGANjDq17"
      },
      "execution_count": null,
      "outputs": []
    },
    {
      "cell_type": "code",
      "source": [
        "index = pinecone.Index(index_name)"
      ],
      "metadata": {
        "id": "fBNSdSfLJOOj"
      },
      "execution_count": null,
      "outputs": []
    },
    {
      "cell_type": "markdown",
      "source": [
        "# Set up Functions"
      ],
      "metadata": {
        "id": "aSRXovT4I0lc"
      }
    },
    {
      "cell_type": "code",
      "source": [
        "def search_literature(query, limit=20, fields=[\"title\", \"authors\", \"year\", \"openAccessPdf\", \"abstract\"]):\n",
        "    # space between the  query to be removed and replaced with +\n",
        "    query = preprocess_query(query).replace(\" \", \"+\")\n",
        "    url = f'https://api.semanticscholar.org/graph/v1/paper/search?query={query}&limit={limit}&fields={\",\".join(fields)}'\n",
        "    headers = {\"Accept\": \"*/*\", \"x-api-key\": S2_API_KEY}\n",
        "\n",
        "    response = requests.get(url, headers=headers)\n",
        "    return response.json()"
      ],
      "metadata": {
        "id": "GaulJ2ITFFxk"
      },
      "execution_count": null,
      "outputs": []
    },
    {
      "cell_type": "code",
      "source": [
        "def preprocess_query(query):\n",
        "    query = query.lower()\n",
        "    # remove stopwords from the query\n",
        "    stopwords = set(nltk.corpus.stopwords.words(\"english\"))\n",
        "    query = \" \".join([word for word in query.split() if word not in stopwords])\n",
        "    return query"
      ],
      "metadata": {
        "id": "coJNYt4dFFn7"
      },
      "execution_count": null,
      "outputs": []
    },
    {
      "cell_type": "code",
      "source": [
        "def load_documents_pdf(path):\n",
        "    loader = DirectoryLoader(path, glob=\"*.pdf\", loader_cls=PyPDFLoader)\n",
        "    documents = loader.load()\n",
        "\n",
        "    return documents"
      ],
      "metadata": {
        "id": "9VvTKUPEF0CN"
      },
      "execution_count": null,
      "outputs": []
    },
    {
      "cell_type": "code",
      "source": [
        "def split_text(documents, chunk_size=1000, chunk_overlap=0):\n",
        "    text_splitter = RecursiveCharacterTextSplitter(\n",
        "                        chunk_size=chunk_size, \n",
        "                        chunk_overlap=chunk_overlap, \n",
        "                        separators=[\"\\n\\n\", \"\\n\", \" \", \"\"]\n",
        "                )\n",
        "\n",
        "    texts = text_splitter.split_documents(documents)\n",
        "\n",
        "    return texts"
      ],
      "metadata": {
        "id": "EoN6rd62I3QF"
      },
      "execution_count": null,
      "outputs": []
    },
    {
      "cell_type": "code",
      "source": [
        "def create_embeddings(model='text-embedding-ada-002'):\n",
        "    \n",
        "    embeddings = OpenAIEmbeddings(\n",
        "    openai_api_key=os.environ['OPENAI_API_KEY'], \n",
        "    model=model\n",
        "    )\n",
        "\n",
        "    #docsearch = Chroma.from_documents(texts, embeddings, metadatas=[{\"source\": str(i)} for i in range(len(texts))])\n",
        "  \n",
        "    return embeddings"
      ],
      "metadata": {
        "id": "3--bqd8XI6Mf"
      },
      "execution_count": null,
      "outputs": []
    },
    {
      "cell_type": "code",
      "source": [
        "# Create embeddings and index them in the Pinecone instance\n",
        "documents = load_documents_pdf('/content/drive/MyDrive/Colab Notebooks/docs/')\n",
        "docs = split_text(documents)\n",
        "embed = create_embeddings()"
      ],
      "metadata": {
        "id": "eaLaW5hfJHOL"
      },
      "execution_count": null,
      "outputs": []
    },
    {
      "cell_type": "code",
      "source": [
        "# Set up vectorstore\n",
        "vectorstore = Pinecone.from_documents(docs, embed, index_name=index_name)"
      ],
      "metadata": {
        "id": "5jltcxRb3W4s"
      },
      "execution_count": null,
      "outputs": []
    },
    {
      "cell_type": "code",
      "source": [
        "index.describe_index_stats()"
      ],
      "metadata": {
        "colab": {
          "base_uri": "https://localhost:8080/"
        },
        "id": "8i7o7IS23frT",
        "outputId": "8e7c7cea-5589-4aae-caf7-06b8eb68c2e4"
      },
      "execution_count": null,
      "outputs": [
        {
          "output_type": "execute_result",
          "data": {
            "text/plain": [
              "{'dimension': 1536,\n",
              " 'index_fullness': 0.0,\n",
              " 'namespaces': {'': {'vector_count': 301}},\n",
              " 'total_vector_count': 301}"
            ]
          },
          "metadata": {},
          "execution_count": 25
        }
      ]
    },
    {
      "cell_type": "markdown",
      "source": [
        "# Test code for searching literature"
      ],
      "metadata": {
        "id": "UVOpOj72H11U"
      }
    },
    {
      "cell_type": "code",
      "source": [
        "query = 'Im searching for literature how explaineble ai helps employees understand ai?'\n",
        "search_literature(query)"
      ],
      "metadata": {
        "colab": {
          "base_uri": "https://localhost:8080/"
        },
        "id": "zoJMHrhLH5Cx",
        "outputId": "daee9495-501d-414c-bbbc-dc98d0a1aa05"
      },
      "execution_count": null,
      "outputs": [
        {
          "output_type": "execute_result",
          "data": {
            "text/plain": [
              "{'total': 1,\n",
              " 'offset': 0,\n",
              " 'data': [{'paperId': '09cbf4462e8e5f47505286401ed78dd078a0be20',\n",
              "   'title': \"How IT Influence Chinese ITP's Job Burnout in the COVID-19 epidemic outbreak period?\",\n",
              "   'abstract': \"Since 2000, the speedy development of information technology (IT), Internet, information systems (IS), social networks service (SNS), and artificial intelligence (AI), is indeed a significant issue to support the enterprises to offer their products and services to their global customers. Meanwhile, adopting these technologies to help employees work also pushes IT development progress from the SARS crisis in 2003, to the COVID-19 epidemic outbreak period At the same time, the information systems (IS) is a core capability of an organization in controlling the critical downstream and upstream data. Therefore, how to develop a robust IS to support the globalization of enterprises has been the critical issue from the 2008 financial crisis to the COVID-19 epidemic outbreak period. Since it is the IT personnel to maintain this core capability for the organization, and how an organization can retain the valuable ITP is likely to become a critical factor in the attainment of their strategic goals. Because the job of ITP cannot be separated from IT, and they are the main staff of IS/IT. The ITP have higher stress as they are expected to keep the technology working and the computer applications functioning around the clock in organizations to help their colleagues, and can be on call 24 hours a day, seven days a week (24/7). The supervisor's work-related instant messages (IM) after working hours of the employees will increase their dissatisfaction with their company. Scholars found that high permeability of work-family borders increased work-family conflict in the context of telecommuting and ICT usage at home. These situations will make the ITP experience more technostress, have lower productivity and job satisfaction, and increase the work exhaustion and job burnout of the ITP. Exhaustion can occur in various work environments, the popular press and the research literature suggest that the ITP is of an increasing concern. Stressed ITP tend to be fatigued, are prone to mistakes and injuries, and more likely to be absent, resulting in healthcare costs that are twice as high as those of other employees. For these reasons, work exhaustion of the ITP is particularly worthy to investigate because it may well be contributing to the increased turnover among them. Because national cultures will vary people's expectations for regulating and expressing their emotions in the workplace. Especially in the increasing globalization and concomitant increasing competition era, there is enormous pressure exerted on such organizations to restructure so as to enable them to compete successfully in a borderless world through IT. In addition, scholars have demonstrated the national cultural impact on work exhaustion. Because the huge amount of e-commerce and the convenient IT in Chinese society are growing consistently and rapidly, then many employees rely on IS/IT to complete their tasks assigned by the company. Chinese ITP will sacrifice individual well-beings for group harmony, in turn, their higher job burnout level will be induced. However, rarely have scholars studied this issue that has focused on Chinese cultural society. For this reason, this study will investigate the Chinese cultural society that may have a more imminent impact on job burnout and work exhaustion, and guanxi is one of the major dynamics where business/individual exchange revolves around Chinese society. In light of this, this study try to resolve the research question is: how the IT characteristics, and guanxi will interact with each other, and influence the work exhaustion, in turn, to influence job burnout outcomes of the Chinese ITP. Therefore, this study believes that it is necessary to use a quantitative research method to better understand the antecedents of work exhaustion of Chinese ITP, and to explore the relationship between guanxi and work exhaustion of ITP will be a significant issue. Thus, this study based on Job Burnout Model and Chinese Guanxi Perspective, adopts qualitative research method to collect Chinese ITP's data. This study conducted a multiple-case study as the research strategy, and follows a positivist process while allowing sufficient evidence to suggest additional relationships. The process and expectations of validity and rigor for this study are derived from the current practice. Finally, has the contribution from both academics and practice resolved the job burnout research.\",\n",
              "   'year': 2022,\n",
              "   'openAccessPdf': None,\n",
              "   'authors': [{'authorId': '32586375', 'name': 'C. Chang'}]}]}"
            ]
          },
          "metadata": {},
          "execution_count": 16
        }
      ]
    },
    {
      "cell_type": "markdown",
      "source": [
        "# Initializing the Conversational Agent"
      ],
      "metadata": {
        "id": "wT_Ov7fcUpfq"
      }
    },
    {
      "cell_type": "code",
      "source": [
        "kb_question_prompt_template = \"\"\"Use the following portion of a long document to see if any of the text is relevant to answer the question. \n",
        "\n",
        "{context}\n",
        "Question: {question}\n",
        "Relevant text, if any:\"\"\"\n",
        "KB_QUESTION_PROMPT = PromptTemplate(\n",
        "    template=kb_question_prompt_template, input_variables=[\"context\", \"question\"]\n",
        ")\n",
        "\n",
        "kb_combine_prompt_template = \"\"\"\n",
        "You are a professional research assistant and reacts to questions in a professional manner. \n",
        "\n",
        "Given the following extracted parts of a scientific paper and a question.  \n",
        "If you don't know the answer, just say that you don't know. Don't try to make up an answer.\n",
        "Create a final answer with references (\"SOURCES\")\n",
        "ALWAYS return a \"SOURCES\" part at the end of your answer. Return sources as a list of strings, e.g. [\"source1\", \"source2\", ...]\n",
        "\n",
        "QUESTION: {question}\n",
        "=========\n",
        "{summaries}\n",
        "=========\n",
        "FINAL ANSWER:\"\"\"\n",
        "\n",
        "KB_COMBINE_PROMPT = PromptTemplate(\n",
        "    template=kb_combine_prompt_template, input_variables=[\"summaries\", \"question\"]\n",
        ")"
      ],
      "metadata": {
        "id": "uL7mcj9RWBGb"
      },
      "execution_count": null,
      "outputs": []
    },
    {
      "cell_type": "code",
      "source": [
        "fa_question_prompt_template = \"\"\"Use the following portion of a long document to see if any of the text is relevant to answer the question. \n",
        "\n",
        "{context}\n",
        "Question: {question}\n",
        "Relevant text, if any:\"\"\"\n",
        "FA_QUESTION_PROMPT = PromptTemplate(\n",
        "    template=fa_question_prompt_template, input_variables=[\"context\", \"question\"]\n",
        ")\n",
        "\n",
        "fa_combine_prompt_template = \"\"\"\n",
        "You are a professional financial analyst and reacts to questions in a professional manner. \n",
        "\n",
        "Given the following extracted parts of a financial report and a question.  \n",
        "If you don't know the answer, just say that you don't know. Don't try to make up an answer.\n",
        "Create a final answer with references (\"SOURCES\")\n",
        "\n",
        "QUESTION: {question}\n",
        "=========\n",
        "{summaries}\n",
        "=========\n",
        "FINAL ANSWER:\"\"\"\n",
        "\n",
        "FA_COMBINE_PROMPT = PromptTemplate(\n",
        "    template=fa_combine_prompt_template, input_variables=[\"summaries\", \"question\"]\n",
        ")"
      ],
      "metadata": {
        "id": "t42IsoOe0y9r"
      },
      "execution_count": null,
      "outputs": []
    },
    {
      "cell_type": "code",
      "source": [
        "# chat completion llm\n",
        "llm = ChatOpenAI(\n",
        "    openai_api_key=os.environ[\"OPENAI_API_KEY\"],\n",
        "    model_name='gpt-3.5-turbo',\n",
        "    temperature=0.0\n",
        ")\n",
        "\n",
        "# conversational memory\n",
        "conversational_memory = ConversationBufferWindowMemory(\n",
        "    memory_key='chat_history',\n",
        "    k=5,\n",
        "    return_messages=True\n",
        ")\n",
        "\n",
        "# retrieval qa chain\n",
        "kb_chain = load_qa_with_sources_chain(\n",
        "    ChatOpenAI(\n",
        "        model_name='gpt-3.5-turbo',\n",
        "        temperature=0.0, \n",
        "        openai_api_key=os.environ[\"OPENAI_API_KEY\"]\n",
        "    ),\n",
        "    chain_type=\"map_reduce\",\n",
        "    return_intermediate_steps=False,\n",
        "    question_prompt=KB_QUESTION_PROMPT,\n",
        "    combine_prompt=KB_COMBINE_PROMPT,\n",
        ")\n",
        "\n",
        "kb = RetrievalQA(combine_documents_chain=kb_chain, retriever=vectorstore.as_retriever())     \n",
        "\n",
        "# retrieval qa chain\n",
        "fa_chain = load_qa_with_sources_chain(\n",
        "    ChatOpenAI(\n",
        "        model_name='gpt-3.5-turbo',\n",
        "        temperature=0.0, \n",
        "        openai_api_key=os.environ[\"OPENAI_API_KEY\"]\n",
        "    ),\n",
        "    chain_type=\"map_reduce\",\n",
        "    return_intermediate_steps=False,\n",
        "    question_prompt=FA_QUESTION_PROMPT,\n",
        "    combine_prompt=FA_COMBINE_PROMPT,\n",
        ")\n",
        "\n",
        "fa = RetrievalQA(combine_documents_chain=fa_chain, retriever=vectorstore.as_retriever()) "
      ],
      "metadata": {
        "id": "H5DvEDyFUqmC"
      },
      "execution_count": null,
      "outputs": []
    },
    {
      "cell_type": "code",
      "source": [
        "from langchain.agents import Tool\n",
        "\n",
        "tools = [\n",
        "    Tool(\n",
        "        name='Research Assistant',\n",
        "        func=kb.run,\n",
        "        description=(\n",
        "            'use this tool when answering general knowledge queries about scientific or research related topics to get more information'\n",
        "        )\n",
        "    ), \n",
        "      Tool(\n",
        "        name='Financial Analyst',\n",
        "        func=fa.run,\n",
        "        description=(\n",
        "            'use this tool when answering queestion about finances, financial statement or financial questions in general'\n",
        "        )\n",
        "    )\n",
        "]"
      ],
      "metadata": {
        "id": "cSOC6vNKW90-"
      },
      "execution_count": null,
      "outputs": []
    },
    {
      "cell_type": "code",
      "source": [
        "from langchain.agents import initialize_agent\n",
        "\n",
        "agent = initialize_agent(\n",
        "    agent='chat-conversational-react-description',\n",
        "    tools=tools,\n",
        "    llm=llm,\n",
        "    verbose=True,\n",
        "    max_iterations=3,\n",
        "    early_stopping_method='generate',\n",
        "    memory=conversational_memory\n",
        ")"
      ],
      "metadata": {
        "id": "mKyfvuGaXBOq"
      },
      "execution_count": null,
      "outputs": []
    },
    {
      "cell_type": "code",
      "source": [
        "agent(\"Hello, my name is Thijs\")"
      ],
      "metadata": {
        "colab": {
          "base_uri": "https://localhost:8080/"
        },
        "id": "IHqI-PaVXkvS",
        "outputId": "31648575-978c-4c60-d361-703326293d13"
      },
      "execution_count": null,
      "outputs": [
        {
          "output_type": "stream",
          "name": "stdout",
          "text": [
            "\n",
            "\n",
            "\u001b[1m> Entering new AgentExecutor chain...\u001b[0m\n",
            "\u001b[32;1m\u001b[1;3m{\n",
            "    \"action\": \"Final Answer\",\n",
            "    \"action_input\": \"Hello Thijs! How can I assist you today?\"\n",
            "}\u001b[0m\n",
            "\n",
            "\u001b[1m> Finished chain.\u001b[0m\n"
          ]
        },
        {
          "output_type": "execute_result",
          "data": {
            "text/plain": [
              "{'input': 'Hello, my name is Thijs',\n",
              " 'chat_history': [],\n",
              " 'output': 'Hello Thijs! How can I assist you today?'}"
            ]
          },
          "metadata": {},
          "execution_count": 51
        }
      ]
    },
    {
      "cell_type": "code",
      "source": [
        "agent(\"In which Patagonia plans to be carbon neutral?\")"
      ],
      "metadata": {
        "colab": {
          "base_uri": "https://localhost:8080/"
        },
        "id": "AEakZkKLTull",
        "outputId": "cd15fe30-1931-4bc6-94cb-1557eb483dae"
      },
      "execution_count": null,
      "outputs": [
        {
          "output_type": "stream",
          "name": "stdout",
          "text": [
            "\n",
            "\n",
            "\u001b[1m> Entering new AgentExecutor chain...\u001b[0m\n",
            "\u001b[32;1m\u001b[1;3m{\n",
            "    \"action\": \"Research Assistant\",\n",
            "    \"action_input\": \"Patagonia carbon neutral plan\"\n",
            "}\u001b[0m\n",
            "Observation: \u001b[36;1m\u001b[1;3mThere is no relevant information in the provided document about Patagonia's carbon neutral plan. \n",
            "SOURCES: /content/drive/MyDrive/Colab Notebooks/docs/Patagonia-2021-BCorp-Report-Updated-2-15-22.pdf\u001b[0m\n",
            "Thought:\u001b[32;1m\u001b[1;3m{\n",
            "    \"action\": \"Final Answer\",\n",
            "    \"action_input\": \"I'm sorry, but I was unable to find any information about Patagonia's carbon neutral plan in the provided document. It's possible that more information is available elsewhere, or that Patagonia has not yet released a public plan for achieving carbon neutrality.\" \n",
            "}\u001b[0m\n",
            "\n",
            "\u001b[1m> Finished chain.\u001b[0m\n"
          ]
        },
        {
          "output_type": "execute_result",
          "data": {
            "text/plain": [
              "{'input': 'In which Patagonia plans to be carbon neutral?',\n",
              " 'chat_history': [HumanMessage(content='Hello, my name is Thijs', additional_kwargs={}, example=False),\n",
              "  AIMessage(content='Hello Thijs! How can I assist you today?', additional_kwargs={}, example=False)],\n",
              " 'output': \"I'm sorry, but I was unable to find any information about Patagonia's carbon neutral plan in the provided document. It's possible that more information is available elsewhere, or that Patagonia has not yet released a public plan for achieving carbon neutrality.\"}"
            ]
          },
          "metadata": {},
          "execution_count": 52
        }
      ]
    },
    {
      "cell_type": "code",
      "source": [
        "agent(\"What was its revenue?\")"
      ],
      "metadata": {
        "colab": {
          "base_uri": "https://localhost:8080/"
        },
        "id": "l-s4NdtTULFg",
        "outputId": "53d47aac-8d4e-468f-e7a2-41cafc1c708d"
      },
      "execution_count": null,
      "outputs": [
        {
          "output_type": "stream",
          "name": "stdout",
          "text": [
            "\n",
            "\n",
            "\u001b[1m> Entering new AgentExecutor chain...\u001b[0m\n",
            "\u001b[32;1m\u001b[1;3m{\n",
            "    \"action\": \"Financial Analyst\",\n",
            "    \"action_input\": \"What was Patagonia's revenue in the last fiscal year?\"\n",
            "}\u001b[0m\n",
            "Observation: \u001b[33;1m\u001b[1;3mI'm sorry, but there is no information available in the provided financial report to answer the question about Patagonia's revenue in the last fiscal year. No revenue figures were mentioned in the report. \n",
            "Source: /content/drive/MyDrive/Colab Notebooks/docs/Patagonia-2021-BCorp-Report-Updated-2-15-22.pdf\u001b[0m\n",
            "Thought:\u001b[32;1m\u001b[1;3m{\n",
            "    \"action\": \"Final Answer\",\n",
            "    \"action_input\": \"I'm sorry, but there is no information available in the provided financial report to answer the question about Patagonia's revenue in the last fiscal year. No revenue figures were mentioned in the report.\"\n",
            "}\u001b[0m\n",
            "\n",
            "\u001b[1m> Finished chain.\u001b[0m\n"
          ]
        },
        {
          "output_type": "execute_result",
          "data": {
            "text/plain": [
              "{'input': 'What was its revenue?',\n",
              " 'chat_history': [HumanMessage(content='Hello, my name is Thijs', additional_kwargs={}, example=False),\n",
              "  AIMessage(content='Hello Thijs! How can I assist you today?', additional_kwargs={}, example=False),\n",
              "  HumanMessage(content='In which Patagonia plans to be carbon neutral?', additional_kwargs={}, example=False),\n",
              "  AIMessage(content=\"I'm sorry, but I was unable to find any information about Patagonia's carbon neutral plan in the provided document. It's possible that more information is available elsewhere, or that Patagonia has not yet released a public plan for achieving carbon neutrality.\", additional_kwargs={}, example=False)],\n",
              " 'output': \"I'm sorry, but there is no information available in the provided financial report to answer the question about Patagonia's revenue in the last fiscal year. No revenue figures were mentioned in the report.\"}"
            ]
          },
          "metadata": {},
          "execution_count": 53
        }
      ]
    },
    {
      "cell_type": "code",
      "source": [
        "agent(\"How many grants did Patagonia made to groups fighting to protect lands, waters and wildlife?\")"
      ],
      "metadata": {
        "colab": {
          "base_uri": "https://localhost:8080/"
        },
        "id": "7oQlDvpwafqh",
        "outputId": "6fccb972-f5ca-416e-9681-ea35f52abc0d"
      },
      "execution_count": null,
      "outputs": [
        {
          "output_type": "stream",
          "name": "stdout",
          "text": [
            "\n",
            "\n",
            "\u001b[1m> Entering new AgentExecutor chain...\u001b[0m\n",
            "\u001b[32;1m\u001b[1;3m{\n",
            "    \"action\": \"Research Assistant\",\n",
            "    \"action_input\": \"How many grants did Patagonia make to groups fighting to protect lands, waters and wildlife in 2021?\"\n",
            "}\u001b[0m\n",
            "Observation: \u001b[36;1m\u001b[1;3mBased on the available information, there is no text in the Patagonia 2021 BCorp Report that provides the number of grants made to groups fighting to protect lands, waters and wildlife specifically in 2021. The report only provides information about grants and donations made in the past. \n",
            "SOURCES: \n",
            "- /content/drive/MyDrive/Colab Notebooks/docs/Patagonia-2021-BCorp-Report-Updated-2-15-22.pdf\u001b[0m\n",
            "Thought:\u001b[32;1m\u001b[1;3m{\n",
            "    \"action\": \"Final Answer\",\n",
            "    \"action_input\": \"There is no information available in the Patagonia 2021 BCorp Report about the number of grants made to groups fighting to protect lands, waters and wildlife specifically in 2021.\"\n",
            "}\u001b[0m\n",
            "\n",
            "\u001b[1m> Finished chain.\u001b[0m\n"
          ]
        },
        {
          "output_type": "execute_result",
          "data": {
            "text/plain": [
              "{'input': 'How many grants did Patagonia made to groups fighting to protect lands, waters and wildlife in 2021?',\n",
              " 'chat_history': [HumanMessage(content='Hello, my name is Thijs', additional_kwargs={}, example=False),\n",
              "  AIMessage(content='Hello Thijs! How can I assist you today?', additional_kwargs={}, example=False)],\n",
              " 'output': 'There is no information available in the Patagonia 2021 BCorp Report about the number of grants made to groups fighting to protect lands, waters and wildlife specifically in 2021.'}"
            ]
          },
          "metadata": {},
          "execution_count": 43
        }
      ]
    },
    {
      "cell_type": "code",
      "source": [
        "agent(\"Then how many grants did Patagonia made to groups fighting to protect lands, waters and wildlife?\")"
      ],
      "metadata": {
        "colab": {
          "base_uri": "https://localhost:8080/"
        },
        "id": "7MQ54_aJGOX2",
        "outputId": "c206c685-302f-4a5f-da51-0a335d041c5e"
      },
      "execution_count": null,
      "outputs": [
        {
          "output_type": "stream",
          "name": "stdout",
          "text": [
            "\n",
            "\n",
            "\u001b[1m> Entering new AgentExecutor chain...\u001b[0m\n",
            "\u001b[32;1m\u001b[1;3m```json\n",
            "{\n",
            "    \"action\": \"Research Assistant\",\n",
            "    \"action_input\": \"How many grants did Patagonia make to groups fighting to protect lands, waters and wildlife?\"\n",
            "}\n",
            "```\u001b[0m\n",
            "Observation: \u001b[36;1m\u001b[1;3mPatagonia made 705 grants to groups fighting to protect lands, waters and wildlife in FY21, totaling $5,700,000+. \n",
            "SOURCES: Patagonia-2021-BCorp-Report-Updated-2-15-22.pdf\u001b[0m\n",
            "Thought:\u001b[32;1m\u001b[1;3m```json\n",
            "{\n",
            "    \"action\": \"Final Answer\",\n",
            "    \"action_input\": \"Patagonia made 705 grants to groups fighting to protect lands, waters and wildlife in FY21, totaling $5,700,000+.\"\n",
            "}\n",
            "```\u001b[0m\n",
            "\n",
            "\u001b[1m> Finished chain.\u001b[0m\n"
          ]
        },
        {
          "output_type": "execute_result",
          "data": {
            "text/plain": [
              "{'input': 'Then how many grants did Patagonia made to groups fighting to protect lands, waters and wildlife?',\n",
              " 'chat_history': [HumanMessage(content='Hello, my name is Thijs', additional_kwargs={}, example=False),\n",
              "  AIMessage(content='Hello Thijs! How can I assist you today?', additional_kwargs={}, example=False),\n",
              "  HumanMessage(content='How many grants did Patagonia made to groups fighting to protect lands, waters and wildlife in 2021?', additional_kwargs={}, example=False),\n",
              "  AIMessage(content='There is no information available in the Patagonia 2021 BCorp Report about the number of grants made to groups fighting to protect lands, waters and wildlife specifically in 2021.', additional_kwargs={}, example=False)],\n",
              " 'output': 'Patagonia made 705 grants to groups fighting to protect lands, waters and wildlife in FY21, totaling $5,700,000+.'}"
            ]
          },
          "metadata": {},
          "execution_count": 44
        }
      ]
    },
    {
      "cell_type": "code",
      "source": [
        "agent(\"What are typical words that are used in job advertisements that are seen as commumal and which words are seen as agentic?\")"
      ],
      "metadata": {
        "colab": {
          "base_uri": "https://localhost:8080/"
        },
        "id": "nHMwyuiWGdgd",
        "outputId": "6e8f2b9c-0060-4d7e-f12e-11d2b6f466b3"
      },
      "execution_count": null,
      "outputs": [
        {
          "output_type": "stream",
          "name": "stdout",
          "text": [
            "\n",
            "\n",
            "\u001b[1m> Entering new AgentExecutor chain...\u001b[0m\n",
            "\u001b[32;1m\u001b[1;3m{\n",
            "    \"action\": \"Research Assistant\",\n",
            "    \"action_input\": \"What are typical words used in job advertisements that are seen as communal and which words are seen as agentic?\"\n",
            "}\u001b[0m\n",
            "Observation: \u001b[36;1m\u001b[1;3mUnfortunately, specific words used in job advertisements that are seen as communal or agentic are not discussed in the sources provided. However, published lists of agentic and communal words include individualistic, competitive, committed, caring, supportive, and responsible. It is important to balance communal and agentic traits in job requirements to minimize gender biases. \n",
            "SOURCES: \n",
            "- Horvath, L. K., & Sczesny, S. (2015). Reducing gender bias in a traditionally male dominated field: How language reforms can contribute to a more balanced representation of women in STEM. Frontiers in psychology, 6, 812. \n",
            "- Gaucher, D., Friesen, J., & Kay, A. C. (2011). Evidence that gendered wording in job advertisements exists and sustains gender inequality. Journal of personality and social psychology, 101(1), 109.\u001b[0m\n",
            "Thought:\u001b[32;1m\u001b[1;3m{\n",
            "    \"action\": \"Final Answer\",\n",
            "    \"action_input\": \"Published lists of agentic and communal words include individualistic, competitive, committed, caring, supportive, and responsible. It is important to balance communal and agentic traits in job requirements to minimize gender biases.\"\n",
            "}\u001b[0m\n",
            "\n",
            "\u001b[1m> Finished chain.\u001b[0m\n"
          ]
        },
        {
          "output_type": "execute_result",
          "data": {
            "text/plain": [
              "{'input': 'What are typical words that are used in job advertisements that are seen as commumal and which words are seen as agentic?',\n",
              " 'chat_history': [HumanMessage(content='Hello, my name is Thijs', additional_kwargs={}, example=False),\n",
              "  AIMessage(content='Hello Thijs! How can I assist you today?', additional_kwargs={}, example=False),\n",
              "  HumanMessage(content='How many grants did Patagonia made to groups fighting to protect lands, waters and wildlife in 2021?', additional_kwargs={}, example=False),\n",
              "  AIMessage(content='There is no information available in the Patagonia 2021 BCorp Report about the number of grants made to groups fighting to protect lands, waters and wildlife specifically in 2021.', additional_kwargs={}, example=False),\n",
              "  HumanMessage(content='Then how many grants did Patagonia made to groups fighting to protect lands, waters and wildlife?', additional_kwargs={}, example=False),\n",
              "  AIMessage(content='Patagonia made 705 grants to groups fighting to protect lands, waters and wildlife in FY21, totaling $5,700,000+.', additional_kwargs={}, example=False)],\n",
              " 'output': 'Published lists of agentic and communal words include individualistic, competitive, committed, caring, supportive, and responsible. It is important to balance communal and agentic traits in job requirements to minimize gender biases.'}"
            ]
          },
          "metadata": {},
          "execution_count": 45
        }
      ]
    }
  ]
}